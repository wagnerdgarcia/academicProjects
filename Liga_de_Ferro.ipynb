{
  "cells": [
    {
      "cell_type": "markdown",
      "metadata": {
        "id": "view-in-github",
        "colab_type": "text"
      },
      "source": [
        "<a href=\"https://colab.research.google.com/github/wagnerdgarcia/academicProjects/blob/master/Liga_de_Ferro.ipynb\" target=\"_parent\"><img src=\"https://colab.research.google.com/assets/colab-badge.svg\" alt=\"Open In Colab\"/></a>"
      ]
    },
    {
      "cell_type": "markdown",
      "metadata": {
        "id": "btv0znHmsR5D"
      },
      "source": [
        "# Aula prática: Mix de Produção\n",
        "<sup>Adaptado dos exercícios 2.3 e 2.5 do livro `Pesquisa Operacional`, de `Arenales, Armentano, Morabito e Yanasse`.</sup>"
      ]
    },
    {
      "cell_type": "markdown",
      "metadata": {
        "id": "0hUSOEftsR5E"
      },
      "source": [
        "## Exercício 1"
      ]
    },
    {
      "cell_type": "markdown",
      "metadata": {
        "id": "T_SOsXELsR5E"
      },
      "source": [
        "\n",
        "\n",
        "\n",
        "\n",
        "\n",
        "\n",
        "\n",
        "\n",
        "\n",
        "\n",
        "\n",
        "\n",
        "\n",
        "\n",
        "\n",
        "\n",
        "\n",
        "\n",
        "\n",
        "\n",
        "\n",
        "\n",
        "ção tem de produzir 10 toneladas de um tipo de liga metálica e, para isso, tem disponível: lingotes de ferro, grafite e sucata. Dois componentes são relevantes para a liga: carbono e silício. As tabelas a seguir fornecem a fração, em termos percentuais, desses elementos nos ingredientes disponíveis, seus custos unitários, bem como a composição da liga (isto é, porcentagens mínima e máxima de cada componente da liga).\n",
        "\n",
        "Frações dos elementos (%) nos ingredientes e custo dos ingredientes (R$/ton):\n",
        "\n",
        "| | Lingotes | Grafite | Sucata |\n",
        "|:---|:---:|:---:|:---:|\n",
        "| Carbono | 0.5 | 90 | 9 |\n",
        "| Silício | 14 | - | 27 |\n",
        "| Custo | 90 | 180 | 25 |\n",
        "\n",
        "Frações (%) mínima e máxima dos componentes na liga:\n",
        "\n",
        "| | min | max |\n",
        "|:---|:---:|:---:|\n",
        "|Carbono | 0.0 | 9.5 |\n",
        "|Silício | 19 | 20 |\n",
        "\n",
        "\n",
        "Escreva um modelo de otimização linear para determinar as quantidades dos ingredientes para compor a liga metálica, de modo que as especificações técnicas sejam satisfeitas e o custo seja mínimo."
      ]
    },
    {
      "cell_type": "markdown",
      "metadata": {
        "id": "EtPxBakTtQbV"
      },
      "source": [
        "### Resolução"
      ]
    },
    {
      "cell_type": "code",
      "execution_count": 35,
      "metadata": {
        "id": "7pMG-i60tGC4",
        "colab": {
          "base_uri": "https://localhost:8080/"
        },
        "outputId": "3bc1d237-76b3-4b4e-9732-36f33b70af9c"
      },
      "outputs": [
        {
          "output_type": "stream",
          "name": "stdout",
          "text": [
            "Looking in indexes: https://pypi.org/simple, https://us-python.pkg.dev/colab-wheels/public/simple/\n",
            "Requirement already satisfied: mip in /usr/local/lib/python3.8/dist-packages (1.15.0)\n",
            "Requirement already satisfied: cffi==1.15.* in /usr/local/lib/python3.8/dist-packages (from mip) (1.15.1)\n",
            "Requirement already satisfied: pycparser in /usr/local/lib/python3.8/dist-packages (from cffi==1.15.*->mip) (2.21)\n"
          ]
        }
      ],
      "source": [
        "# instalação e importação do pacote mip\n",
        "!pip install mip\n",
        "\n",
        "from mip import *"
      ]
    },
    {
      "cell_type": "markdown",
      "metadata": {
        "id": "Soe9owdkxmmg"
      },
      "source": [
        "Carrega Dados"
      ]
    },
    {
      "cell_type": "code",
      "execution_count": 36,
      "metadata": {
        "id": "1foz1NwTtzuH"
      },
      "outputs": [],
      "source": [
        "# composição de cada ingrediente\n",
        "a = {\n",
        "    'l': {'c': 0.005, 's': 0.14},\n",
        "    'g': {'c': 0.9,   's': 0.0},\n",
        "    's': {'c': 0.09,  's': 0.27},\n",
        "}\n",
        "\n",
        "# custo\n",
        "c = {'l': 90, 'g': 180, 's': 25}\n",
        "\n",
        "# composições mínimas e máximas dos componentes\n",
        "n = {'c': 0.0, 's': 0.19}  # min\n",
        "m = {'c': 0.095, 's': 0.2} # max\n",
        "\n",
        "# quantidade desejada da liga\n",
        "Q = 10"
      ]
    },
    {
      "cell_type": "code",
      "source": [
        "a[\"l\"]['c']"
      ],
      "metadata": {
        "colab": {
          "base_uri": "https://localhost:8080/"
        },
        "id": "hPgtdQgB7TUy",
        "outputId": "9be669e5-9068-4942-ad5e-3f2b5bbcfe0c"
      },
      "execution_count": 37,
      "outputs": [
        {
          "output_type": "execute_result",
          "data": {
            "text/plain": [
              "0.005"
            ]
          },
          "metadata": {},
          "execution_count": 37
        }
      ]
    },
    {
      "cell_type": "markdown",
      "metadata": {
        "id": "1tHfPbSfxp_k"
      },
      "source": [
        "Cria modelo"
      ]
    },
    {
      "cell_type": "code",
      "source": [
        "model = Model(sense=MINIMIZE, solver_name=CBC)\n",
        "\n",
        "x = [model.add_var(var_type=CONTINUOUS, name=f\"x_{i}\", lb=0.0) for i in range(3)]\n",
        "\n",
        "\n",
        "model.objective = c[\"l\"] * x[0] + c[\"g\"] * x[1] + c[\"s\"] * x[2]\n",
        "\n",
        "model+= a[\"l\"][\"c\"] * x[0] + a[\"g\"][\"c\"] * x[1] + a[\"s\"][\"c\"] * x[2] >= n[\"c\"]*Q\n",
        "model+= a[\"l\"][\"c\"] * x[0] + a[\"g\"][\"c\"] * x[1] + a[\"s\"][\"c\"] * x[2] <= m[\"c\"]*Q\n",
        "\n",
        "model+=a[\"l\"][\"s\"] * x[0] + a[\"g\"][\"s\"] * x[1] + a[\"s\"][\"s\"] * x[2] >= n[\"s\"]*Q\n",
        "model+=a[\"l\"][\"s\"] * x[0] + a[\"g\"][\"s\"] * x[1] + a[\"s\"][\"s\"] * x[2] <= m[\"s\"]*Q\n",
        "\n",
        "model+=x[0] + x[1] + x[2] == Q\n",
        "\n",
        "model.write(\"model.lp\") # salva modelo em arquivo\n",
        "with open(\"model.lp\") as f: # lê e exibe conteúdo do arquivo\n",
        "  print(f.read())"
      ],
      "metadata": {
        "id": "woEL0ub3W17Q",
        "colab": {
          "base_uri": "https://localhost:8080/"
        },
        "outputId": "5ab98805-d7fe-4721-e439-e582d5ff9201"
      },
      "execution_count": 38,
      "outputs": [
        {
          "output_type": "stream",
          "name": "stdout",
          "text": [
            "\\Problem name: \n",
            "\n",
            "Minimize\n",
            "OBJROW: 90 x_0 + 180 x_1 + 25 x_2\n",
            "Subject To\n",
            "constr(0):  0.00500 x_0 + 0.90000 x_1 + 0.09000 x_2 >= -0\n",
            "constr(1):  0.00500 x_0 + 0.90000 x_1 + 0.09000 x_2 <= 0.95000\n",
            "constr(2):  0.14000 x_0 + 0.27000 x_2 >= 1.90000\n",
            "constr(3):  0.14000 x_0 + 0.27000 x_2 <= 2\n",
            "constr(4):  x_0 + x_1 + x_2 = 10\n",
            "Bounds\n",
            "End\n",
            "\n"
          ]
        }
      ]
    },
    {
      "cell_type": "markdown",
      "metadata": {
        "id": "dC0dH9Vgx11z"
      },
      "source": [
        "Executa"
      ]
    },
    {
      "cell_type": "code",
      "execution_count": 39,
      "metadata": {
        "id": "Ytos1fiAyt5n",
        "colab": {
          "base_uri": "https://localhost:8080/"
        },
        "outputId": "95f8ece6-061b-4daf-8295-6c9486830439"
      },
      "outputs": [
        {
          "output_type": "stream",
          "name": "stdout",
          "text": [
            "Status =  OptimizationStatus.OPTIMAL\n",
            "Solution value  = 600.00\n",
            "\n",
            "Solution:\n",
            "x_0 = 5.38\n",
            "x_1 = 0.00\n",
            "x_2 = 4.62\n"
          ]
        }
      ],
      "source": [
        "def solve(model):\n",
        "  status = model.optimize()\n",
        "\n",
        "  print(\"Status = \", status)\n",
        "  print(f\"Solution value  = {model.objective_value:.2f}\\n\")\n",
        "  \n",
        "  print(\"Solution:\")\n",
        "  for v in model.vars:\n",
        "      print(f\"{v.name} = {v.x:.2f}\")\n",
        "\n",
        "solve(model)"
      ]
    },
    {
      "cell_type": "markdown",
      "metadata": {
        "id": "0Sp8kCaGsR5E"
      },
      "source": [
        "## Exercício 2"
      ]
    },
    {
      "cell_type": "markdown",
      "metadata": {
        "id": "7PPfPnU7sR5E"
      },
      "source": [
        "Agora considere que os ingredientes tem o estoque limitado, de acordo com a tabela abaixo.\n",
        "\n",
        "| | Lingotes | Grafite | Sucata |\n",
        "|:---|:---:|:---:|:---:|\n",
        "| Estoque (ton) | 5 | 5 | 12 |\n",
        "\n",
        "Como o modelo pode ser modificado para atender a esse requisito?"
      ]
    },
    {
      "cell_type": "markdown",
      "metadata": {
        "id": "fSrbmrBD0fb9"
      },
      "source": [
        "### Código"
      ]
    },
    {
      "cell_type": "markdown",
      "metadata": {
        "id": "2iAz0aU99Dxo"
      },
      "source": [
        "Carrega Dados"
      ]
    },
    {
      "cell_type": "code",
      "execution_count": 40,
      "metadata": {
        "id": "Yz_PtRT89GxZ"
      },
      "outputs": [],
      "source": [
        "# estoque\n",
        "e = {'l': 5, 'g': 5, 's': 12}"
      ]
    },
    {
      "cell_type": "markdown",
      "metadata": {
        "id": "s9G5Hep50y0V"
      },
      "source": [
        "Cria modelo"
      ]
    },
    {
      "cell_type": "code",
      "source": [
        "model += x[0] <= e[\"l\"]\n",
        "model += x[1] <= e[\"g\"]\n",
        "model += x[2] <= e[\"s\"]\n",
        "\n",
        "model.write(\"modelo2.lp\") # salva modelo em arquivo\n",
        "with open(\"modelo2.lp\") as f: # Lê e exibe conteúdo do arquivo\n",
        "  print(f.read())"
      ],
      "metadata": {
        "id": "Ez6lX92UZxBU",
        "colab": {
          "base_uri": "https://localhost:8080/"
        },
        "outputId": "ad29a3e1-898d-4c35-e6b6-e087de19ea8f"
      },
      "execution_count": 41,
      "outputs": [
        {
          "output_type": "stream",
          "name": "stdout",
          "text": [
            "\\Problem name: \n",
            "\n",
            "Minimize\n",
            "OBJROW: 90 x_0 + 180 x_1 + 25 x_2\n",
            "Subject To\n",
            "constr(0):  0.00500 x_0 + 0.90000 x_1 + 0.09000 x_2 >= -0\n",
            "constr(1):  0.00500 x_0 + 0.90000 x_1 + 0.09000 x_2 <= 0.95000\n",
            "constr(2):  0.14000 x_0 + 0.27000 x_2 >= 1.90000\n",
            "constr(3):  0.14000 x_0 + 0.27000 x_2 <= 2\n",
            "constr(4):  x_0 + x_1 + x_2 = 10\n",
            "constr(5):  x_0 <= 5\n",
            "constr(6):  x_1 <= 5\n",
            "constr(7):  x_2 <= 12\n",
            "Bounds\n",
            "End\n",
            "\n"
          ]
        }
      ]
    },
    {
      "cell_type": "markdown",
      "metadata": {
        "id": "Ue3ahEFA01L_"
      },
      "source": [
        "Executa"
      ]
    },
    {
      "cell_type": "code",
      "execution_count": 42,
      "metadata": {
        "id": "EVs-Fx6D02Tc",
        "colab": {
          "base_uri": "https://localhost:8080/"
        },
        "outputId": "57569b53-6f5b-4cea-a80e-96e978582445"
      },
      "outputs": [
        {
          "output_type": "stream",
          "name": "stdout",
          "text": [
            "Status =  OptimizationStatus.OPTIMAL\n",
            "Solution value  = 603.70\n",
            "\n",
            "Solution:\n",
            "x_0 = 5.00\n",
            "x_1 = 0.19\n",
            "x_2 = 4.81\n"
          ]
        }
      ],
      "source": [
        "solve(model)"
      ]
    },
    {
      "cell_type": "markdown",
      "metadata": {
        "id": "2mE7ipJPsR5F"
      },
      "source": [
        "## Exercício 3"
      ]
    },
    {
      "cell_type": "markdown",
      "metadata": {
        "id": "-Er_QuwBsR5F"
      },
      "source": [
        "Suponha agora que duas ligas metálicas devem ser preparadas e os mesmos ingredientes são utilizados em ambas. A liga especificada no Exercício 1 é referida como liga 1 e devem ser produzidas 10 toneladas desta liga. Da outra liga, referida como liga 2, devem ser produzidas 6 toneladas e sua composição mínima e máxima é dada na tabela abaixo.\n",
        "\n",
        "| | min | max |\n",
        "|:---|:---:|:---:|\n",
        "|Carbono | 0.00 | 0.4 |\n",
        "|Silício | 0.12 | 0.19 |\n"
      ]
    },
    {
      "cell_type": "markdown",
      "metadata": {
        "id": "Ay3bSczF1Ldt"
      },
      "source": [
        "### Código"
      ]
    },
    {
      "cell_type": "markdown",
      "metadata": {
        "id": "v12Efn0tMq3m"
      },
      "source": [
        "Carrega dados"
      ]
    },
    {
      "cell_type": "code",
      "execution_count": 43,
      "metadata": {
        "id": "dFhCoNM1MtVy"
      },
      "outputs": [],
      "source": [
        "# composições mínimas e máximas dos componentes\n",
        "n = [{'c': 0.0, 's': 0.19}, {'c': 0.0, 's': 0.12}]\n",
        "m = [{'c': 0.095, 's': 0.2}, {'c': 0.4, 's': 0.19}]\n",
        "\n",
        "# quantidade desejada da liga\n",
        "Q = [10, 6]"
      ]
    },
    {
      "cell_type": "markdown",
      "metadata": {
        "id": "xMEEKulx1SN9"
      },
      "source": [
        "Cria modelo"
      ]
    },
    {
      "cell_type": "code",
      "source": [
        "model = Model(sense=MINIMIZE, solver_name=CBC)\n",
        "\n",
        "x = [model.add_var(var_type=CONTINUOUS, name=f\"x_{i}\", lb=0.0) for i in range(6)]\n",
        "\n",
        "# Funcao Objetivo\n",
        "model.objective = c[\"l\"] * x[0] + c[\"g\"] * x[1] + c[\"s\"] * x[2] + c[\"l\"] * x[3] + c[\"g\"] * x[4] + c[\"s\"] * x[5]\n",
        "\n",
        "# Restricao de carbono da primeira liga\n",
        "model+= a[\"l\"][\"c\"] * x[0] + a[\"g\"][\"c\"] * x[1] + a[\"s\"][\"c\"] * x[2] >= n[0][\"c\"]*Q[0]\n",
        "model+= a[\"l\"][\"c\"] * x[0] + a[\"g\"][\"c\"] * x[1] + a[\"s\"][\"c\"] * x[2] <= m[0][\"c\"]*Q[0]\n",
        "\n",
        "# Restricao de carbono da segunda liga\n",
        "model+= a[\"l\"][\"c\"] * x[3] + a[\"g\"][\"c\"] * x[4] + a[\"s\"][\"c\"] * x[5] >= n[1][\"c\"]*Q[1]\n",
        "model+= a[\"l\"][\"c\"] * x[3] + a[\"g\"][\"c\"] * x[4] + a[\"s\"][\"c\"] * x[5] <= m[1][\"c\"]*Q[1]\n",
        "\n",
        "# Restricao de silicio da Primeira liga\n",
        "model+=a[\"l\"][\"s\"] * x[0] + a[\"g\"][\"s\"] * x[1] + a[\"s\"][\"s\"] * x[2] >= n[0][\"s\"]*Q[0]\n",
        "model+=a[\"l\"][\"s\"] * x[0] + a[\"g\"][\"s\"] * x[1] + a[\"s\"][\"s\"] * x[2] <= m[0][\"s\"]*Q[0]\n",
        "\n",
        "# Restricao de Silicio da segunda liga\n",
        "model+=a[\"l\"][\"s\"] * x[3] + a[\"g\"][\"s\"] * x[4] + a[\"s\"][\"s\"] * x[5] >= n[1][\"s\"]*Q[1]\n",
        "model+=a[\"l\"][\"s\"] * x[3] + a[\"g\"][\"s\"] * x[4] + a[\"s\"][\"s\"] * x[5] <= m[1][\"s\"]*Q[1]\n",
        "\n",
        "# Quantidade em Toneladas de cada elemento\n",
        "# primeira liga\n",
        "model+=x[0] + x[1] + x[2] == Q[0]\n",
        "# segunda liga\n",
        "model+=x[3] + x[4] + x[5] == Q[1]\n",
        "\n",
        "# Restricao do estoque\n",
        "model += x[0] + x[3] <= e[\"l\"]\n",
        "model += x[1] + x[4] <= e[\"g\"]\n",
        "model += x[2] + x[5] <= e[\"s\"]\n",
        "\n",
        "model.write(\"modelo3.lp\") # salva modelo em arquivo\n",
        "with open(\"modelo3.lp\") as f: # lê e exibe conteúdo do arquivo\n",
        "  print(f.read())"
      ],
      "metadata": {
        "id": "GWULXSegdJct",
        "colab": {
          "base_uri": "https://localhost:8080/"
        },
        "outputId": "97f425b6-c56c-4422-95bc-8aba909fdcc5"
      },
      "execution_count": 44,
      "outputs": [
        {
          "output_type": "stream",
          "name": "stdout",
          "text": [
            "\\Problem name: \n",
            "\n",
            "Minimize\n",
            "OBJROW: 90 x_0 + 180 x_1 + 25 x_2 + 90 x_3 + 180 x_4 + 25 x_5\n",
            "Subject To\n",
            "constr(0):  0.00500 x_0 + 0.90000 x_1 + 0.09000 x_2 >= -0\n",
            "constr(1):  0.00500 x_0 + 0.90000 x_1 + 0.09000 x_2 <= 0.95000\n",
            "constr(2):  0.00500 x_3 + 0.90000 x_4 + 0.09000 x_5 >= -0\n",
            "constr(3):  0.00500 x_3 + 0.90000 x_4 + 0.09000 x_5 <= 2.40000\n",
            "constr(4):  0.14000 x_0 + 0.27000 x_2 >= 1.90000\n",
            "constr(5):  0.14000 x_0 + 0.27000 x_2 <= 2\n",
            "constr(6):  0.14000 x_3 + 0.27000 x_5 >= 0.72000\n",
            "constr(7):  0.14000 x_3 + 0.27000 x_5 <= 1.14000\n",
            "constr(8):  x_0 + x_1 + x_2 = 10\n",
            "constr(9):  x_3 + x_4 + x_5 = 6\n",
            "constr(10):  x_0 + x_3 <= 5\n",
            "constr(11):  x_1 + x_4 <= 5\n",
            "constr(12):  x_2 + x_5 <= 12\n",
            "Bounds\n",
            "End\n",
            "\n"
          ]
        }
      ]
    },
    {
      "cell_type": "markdown",
      "metadata": {
        "id": "8JECPXkw1UYP"
      },
      "source": [
        "Executa"
      ]
    },
    {
      "cell_type": "code",
      "execution_count": 45,
      "metadata": {
        "id": "21cod-L71Wmr",
        "colab": {
          "base_uri": "https://localhost:8080/"
        },
        "outputId": "aa6d1df9-b145-4145-fbad-227544fbbf4a"
      },
      "outputs": [
        {
          "output_type": "stream",
          "name": "stdout",
          "text": [
            "Status =  OptimizationStatus.OPTIMAL\n",
            "Solution value  = 1029.26\n",
            "\n",
            "Solution:\n",
            "x_0 = 4.32\n",
            "x_1 = 0.51\n",
            "x_2 = 5.17\n",
            "x_3 = 0.68\n",
            "x_4 = 1.45\n",
            "x_5 = 3.87\n"
          ]
        }
      ],
      "source": [
        "solve(model)"
      ]
    }
  ],
  "metadata": {
    "colab": {
      "provenance": [],
      "include_colab_link": true
    },
    "kernelspec": {
      "display_name": "Python 3",
      "language": "python",
      "name": "python3"
    },
    "language_info": {
      "codemirror_mode": {
        "name": "ipython",
        "version": 3
      },
      "file_extension": ".py",
      "mimetype": "text/x-python",
      "name": "python",
      "nbconvert_exporter": "python",
      "pygments_lexer": "ipython3",
      "version": "3.9.12"
    },
    "vscode": {
      "interpreter": {
        "hash": "375d3134e2271422fd67fc0237b3f1ee69ce72c62d280e2fa6411e6a088e62bf"
      }
    }
  },
  "nbformat": 4,
  "nbformat_minor": 0
}